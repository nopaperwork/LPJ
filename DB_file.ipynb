{
 "cells": [
  {
   "cell_type": "code",
   "execution_count": 12,
   "id": "835734ed",
   "metadata": {},
   "outputs": [],
   "source": [
    "import sqlite3 as sl\n",
    "con = sl.connect('dont_touch.db')\n",
    "# with con:\n",
    "#     con.execute(\"\"\"\n",
    "#         CREATE TABLE central_tracker (\n",
    "#             article_number char(15) NOT NULL PRIMARY KEY ,\n",
    "#             ref_id char(20) ,\n",
    "#             booking_date char(20),\n",
    "#             destination_pincode char(10) ,\n",
    "#             addressee TEXT ,\n",
    "#             addressee_address TEXT ,\n",
    "#             weight char(50) ,\n",
    "#             net_value char(50) ,\n",
    "#             LPJ_person char(100)  ,\n",
    "#             casecode char(50) ,\n",
    "#             delivery_status char(30) \n",
    "#         );\n",
    "#     \"\"\")"
   ]
  },
  {
   "cell_type": "code",
   "execution_count": 71,
   "id": "e328cee6",
   "metadata": {},
   "outputs": [],
   "source": [
    "# sql = \"\"\"INSERT INTO central_tracker (article_number, ref_id , booking_date, addressee,addressee_address , destination_pincode\n",
    "#                                       ,weight ,net_value, LPJ_person, casecode , delivery_status) values(?, ?,?, ? , ?, ?, ?, ?, ?, ?,?)\"\"\"\n",
    "# data = [\n",
    "#     ('ED163571894IN','9213/A3/X1','14/07/22', 'Deepak Badhwar','Ch. No. 125 Ground Floor, Mahatma Gandhi Lawyers Complex',\n",
    "#      '147001','','','','','Delivered'),\n",
    "#     ('ED163571903IN','9189/A8/X1','14/07/22', 'Virender dhar dubey','Vivakanad Chaya Kunj Civil Court',\n",
    "#      '273001','','','','','Not Delivered')\n",
    "# ]"
   ]
  },
  {
   "cell_type": "code",
   "execution_count": 66,
   "id": "962e244d",
   "metadata": {},
   "outputs": [],
   "source": [
    "# con.execute(\"\"\"drop table central_tracker\"\"\")"
   ]
  },
  {
   "cell_type": "code",
   "execution_count": 67,
   "id": "d2138f4b",
   "metadata": {},
   "outputs": [],
   "source": [
    "# with con:\n",
    "#     con.executemany(sql, data)"
   ]
  },
  {
   "cell_type": "code",
   "execution_count": 77,
   "id": "785e6b6c",
   "metadata": {},
   "outputs": [],
   "source": [
    "with con:\n",
    "    data = con.execute(\"SELECT * FROM central_tracker \")\n",
    "    for row in data:\n",
    "        print(row)\n",
    "con.close()"
   ]
  },
  {
   "cell_type": "code",
   "execution_count": 3,
   "id": "404657ad",
   "metadata": {},
   "outputs": [],
   "source": [
    "# from script to excel\n",
    "import sqlite3\n",
    "from xlsxwriter.workbook import Workbook\n",
    "workbook = Workbook('output_db.xlsx')\n",
    "worksheet = workbook.add_worksheet()\n",
    "\n",
    "conn=sqlite3.connect('dont_touch.db')\n",
    "c=conn.cursor()\n",
    "c.execute(\"select * from central_tracker\")\n",
    "mysel=c.execute(\"select * from central_tracker \")\n",
    "\n",
    "first_row = 0\n",
    "ordered_list = ['Article No','RefID','Booking Date','Destination Pincode','Addressee','Addressee Address','Weight','Net Value','LPJ Person','CaseCode','Delivery Status']\n",
    "# push the header information\n",
    "for header in ordered_list:\n",
    "    col = ordered_list.index(header)  # We are keeping order.\n",
    "    worksheet.write(\n",
    "        first_row, col, header\n",
    "    )  # We have written first row which is the header of worksheet also.\n",
    "\n",
    "for i, row in enumerate(mysel):\n",
    "    for j, value in enumerate(row):\n",
    "        worksheet.write(i+1, j, row[j])\n",
    "workbook.close()"
   ]
  },
  {
   "cell_type": "code",
   "execution_count": 36,
   "id": "a0e431a0",
   "metadata": {},
   "outputs": [
    {
     "name": "stdout",
     "output_type": "stream",
     "text": [
      "{'ED163571903IN': ['0', '5', '6', '7'], 'ED163551625IN': [1, '', '', ''], 'ED163551634IN': [2, '', '', ''], 'ED163551648IN': [3, '', '', ''], 'ED163551651IN': [4, '', '', ''], 'ED163551665IN': [5, '', '', ''], 'ED163551679IN': [6, '', '', ''], 'ED163571894IN': [7, '', '', ''], 'ED163551682IN': [8, '', '', '']}\n"
     ]
    }
   ],
   "source": [
    "import openpyxl\n",
    "tracker_dict ={}\n",
    "# from excel to DB\n",
    "book = openpyxl.load_workbook('output_db.xlsx')\n",
    "sheet = book['Sheet1']\n",
    "# here you iterate over the rows in the specific column\n",
    "for row in range(2, sheet.max_row + 1):\n",
    "    main_key = red_id  = destination_pin_code = addressee = addressee_address = None\n",
    "    for column in \"AGHIJ\":  # Here you can add or reduce the columns\n",
    "        cell_name = \"{}{}\".format(column, row)\n",
    "        if column == \"A\":\n",
    "            main_key = sheet[cell_name].value\n",
    "        if column == \"G\":\n",
    "            weight = sheet[cell_name].value\n",
    "            if weight == None :\n",
    "                weight = ''\n",
    "        if column == \"H\":\n",
    "            net_value = sheet[cell_name].value\n",
    "            if net_value == None:\n",
    "                net_value = ''\n",
    "        if column == \"I\":\n",
    "            lpj_person = sheet[cell_name].value\n",
    "            if lpj_person == None:\n",
    "                lpj_person =''\n",
    "        if column == \"J\":\n",
    "            case_code = sheet[cell_name].value\n",
    "            if case_code == None :\n",
    "                case_code = ''\n",
    "\n",
    "    if main_key:\n",
    "        tracker_dict[main_key] = [weight, net_value ,lpj_person,case_code]\n",
    "\n",
    "print(tracker_dict)"
   ]
  },
  {
   "cell_type": "code",
   "execution_count": 39,
   "id": "6dfb4fd8",
   "metadata": {},
   "outputs": [
    {
     "name": "stdout",
     "output_type": "stream",
     "text": [
      "0 5 6 7 ED163571903IN\n",
      "1    ED163551625IN\n",
      "2    ED163551634IN\n",
      "3    ED163551648IN\n",
      "4    ED163551651IN\n",
      "5    ED163551665IN\n",
      "6    ED163551679IN\n",
      "7    ED163571894IN\n",
      "8    ED163551682IN\n"
     ]
    }
   ],
   "source": [
    "# con = sl.connect('dont_touch.db')\n",
    "for k , v in tracker_dict.items():\n",
    "    print(v[0],v[1],v[2],v[3],k )\n",
    "    con.execute('''update central_tracker set weight = \"%s\" , net_value = \"%s\" , LPJ_person = \"%s\" , casecode=\"%s\" where article_number = \"%s\" '''%( str(v[0]),v[1],v[2],v[3],k ))\n",
    "    con.commit()"
   ]
  },
  {
   "cell_type": "code",
   "execution_count": 14,
   "id": "c24ab9f1",
   "metadata": {},
   "outputs": [],
   "source": [
    "data= con.execute('''update central_tracker set weight = \"1\" and net_value = \"2\" and LPJ_person = \"3\" and casecode=\"4\" where article_number = \"ED163571894IN\" ''')\n",
    "# for row in data:\n",
    "#     print(row)\n",
    "con.commit()"
   ]
  },
  {
   "cell_type": "code",
   "execution_count": 14,
   "id": "30c422dd",
   "metadata": {},
   "outputs": [],
   "source": [
    "con.close()"
   ]
  },
  {
   "cell_type": "code",
   "execution_count": 13,
   "id": "df11cc02",
   "metadata": {},
   "outputs": [],
   "source": [
    "data= con.execute('''delete from central_tracker where article_number = \"ED916326509IN\" ''')\n",
    "data= con.execute('''delete from central_tracker where article_number = \"ED916326490IN\" ''')\n",
    "\n",
    "con.commit()"
   ]
  },
  {
   "cell_type": "code",
   "execution_count": 79,
   "id": "ebc23470",
   "metadata": {},
   "outputs": [],
   "source": [
    "# data = con.execute('''DELETE FROM central_tracker ''')\n",
    "con.commit()"
   ]
  },
  {
   "cell_type": "code",
   "execution_count": null,
   "id": "b957c78c",
   "metadata": {},
   "outputs": [],
   "source": []
  }
 ],
 "metadata": {
  "kernelspec": {
   "display_name": "Python 3 (ipykernel)",
   "language": "python",
   "name": "python3"
  },
  "language_info": {
   "codemirror_mode": {
    "name": "ipython",
    "version": 3
   },
   "file_extension": ".py",
   "mimetype": "text/x-python",
   "name": "python",
   "nbconvert_exporter": "python",
   "pygments_lexer": "ipython3",
   "version": "3.10.2"
  }
 },
 "nbformat": 4,
 "nbformat_minor": 5
}
